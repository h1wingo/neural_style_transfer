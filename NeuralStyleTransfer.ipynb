{
  "nbformat": 4,
  "nbformat_minor": 0,
  "metadata": {
    "colab": {
      "name": "NeuralStyleTransfer.ipynb",
      "provenance": [],
      "collapsed_sections": []
    },
    "kernelspec": {
      "name": "python3",
      "display_name": "Python 3"
    }
  },
  "cells": [
    {
      "cell_type": "markdown",
      "metadata": {
        "id": "l8EotEGX-_ai",
        "colab_type": "text"
      },
      "source": [
        "# **Neural Style Transfer Colab Notebook**"
      ]
    },
    {
      "cell_type": "markdown",
      "metadata": {
        "id": "rY0h7ac7_JNz",
        "colab_type": "text"
      },
      "source": [
        "With this notebook, you will be able to use NST to create your own works of art. \n",
        "\n",
        "A few default content and style images are provided. You will also be able to upload your own to make truly unique creations!\n",
        "\n",
        "In order for the notebook to work properly, make sure to run each block of code in sequential order."
      ]
    },
    {
      "cell_type": "markdown",
      "metadata": {
        "id": "2Qs37lgV_tCk",
        "colab_type": "text"
      },
      "source": [
        "## Step 1: Run a few basic setup tasks."
      ]
    },
    {
      "cell_type": "code",
      "metadata": {
        "id": "cUGIqMyXB9lG",
        "colab_type": "code",
        "colab": {}
      },
      "source": [
        "# Import python modules.\n",
        "from PIL import Image\n",
        "import numpy as np\n",
        "import tensorflow as tf\n",
        "tf.compat.v1.enable_eager_execution()\n",
        "print(\"Eager: \", tf.executing_eagerly())\n",
        "import tensorflow_hub as hub\n",
        "import matplotlib.pyplot as plt\n",
        "import os\n",
        "from google.colab import files\n",
        "from IPython.display import Image\n",
        "\n",
        "# Clone the project repo.\n",
        "! rm -r neural_style_transfer\n",
        "! git clone https://github.com/h1wingo/neural_style_transfer.git\n",
        "\n",
        "# Load the NST modle.\n",
        "nst_model = tf.compat.v2.saved_model.load(\"./neural_style_transfer/nst_model/\")\n",
        "\n",
        "# Success!\n",
        "print(\"Successfully loaded modules and project.\")"
      ],
      "execution_count": null,
      "outputs": []
    },
    {
      "cell_type": "code",
      "metadata": {
        "id": "5shuw4sCAlSK",
        "colab_type": "code",
        "colab": {}
      },
      "source": [
        "# Define the image loading helper function.\n",
        "def load_images_from_directory(data_directory):\n",
        "  files = [os.path.join(data_directory, f) for f in os.listdir(data_directory)]\n",
        "  images_map = {}\n",
        "  for filename in files:\n",
        "    img = plt.imread(filename)\n",
        "    img_name = filename.split(\"/\")[-1].split(\".\")[0]\n",
        "    images_map[img_name] = img\n",
        "  return images_map\n",
        "\n",
        "# Define a function to plot the images from an images map.\n",
        "def plot_images(images_map):\n",
        "  fig, ax = plt.subplots(1, len(images_map))\n",
        "  idx = 0\n",
        "  for image_name in images_map:\n",
        "    image_data = images_map[image_name]\n",
        "    ax[idx].set_xticks([])\n",
        "    ax[idx].set_yticks([])\n",
        "    ax[idx].figure.set_size_inches(25, 25)\n",
        "    ax[idx].set_xlabel(image_name, fontsize=18)\n",
        "    ax[idx].imshow(image_data)\n",
        "    idx += 1\n",
        "\n",
        "# Define a function to display a single image.\n",
        "def display_single_image(image_data):\n",
        "  fig, ax = plt.subplots()\n",
        "  ax.set_xticks([])\n",
        "  ax.set_yticks([])\n",
        "  ax.figure.set_size_inches(10, 10)\n",
        "  ax.imshow(image_data) \n",
        "\n",
        "# Define the function to run style transfer with.\n",
        "def run_nst(content_image, style_image, content_images_map, style_images_map):\n",
        "  global nst_model\n",
        "  style_image_data = style_images_map[style_image].astype(np.float32)[np.newaxis, ...] / 255.0\n",
        "  content_image_data = content_images_map[content_image].astype(np.float32)[np.newaxis, ...] / 255.0\n",
        "  output_image = nst_model(tf.constant(content_image_data), tf.constant(style_image_data))[0][0]\n",
        "  display_single_image(output_image)\n",
        "  return output_image\n",
        "\n",
        "# Define the function to run NST on your own images.\n",
        "def run_nst_on_my_images(content_image, style_image):\n",
        "  global nst_model\n",
        "  style_image_data = style_image.astype(np.float32)[np.newaxis, ...] / 255.0\n",
        "  content_image_data = content_image.astype(np.float32)[np.newaxis, ...] / 255.0\n",
        "  output_image = nst_model(tf.constant(content_image_data), tf.constant(style_image_data))[0][0]\n",
        "  display_single_image(output_image)\n",
        "  return output_image\n",
        "\n",
        "# Define a function to upload your own image.\n",
        "def upload_image():\n",
        "  uploaded_content = files.upload()\n",
        "  for image_name in uploaded_content:\n",
        "    image_data = plt.imread(image_name)\n",
        "    fig, ax = plt.subplots()\n",
        "    ax.set_xticks([])\n",
        "    ax.set_yticks([])\n",
        "    ax.imshow(image_data)\n",
        "    return image_data\n",
        "\n"
      ],
      "execution_count": 63,
      "outputs": []
    },
    {
      "cell_type": "markdown",
      "metadata": {
        "id": "zN-0l-VRCXpb",
        "colab_type": "text"
      },
      "source": [
        "## Step 2: Load the default content and style images."
      ]
    },
    {
      "cell_type": "code",
      "metadata": {
        "id": "k9imaPLNCcJC",
        "colab_type": "code",
        "colab": {}
      },
      "source": [
        "# Load the content images.\n",
        "content_images = load_images_from_directory(\"neural_style_transfer/content\")\n",
        "plot_images(content_images)"
      ],
      "execution_count": null,
      "outputs": []
    },
    {
      "cell_type": "code",
      "metadata": {
        "id": "VReCWvOnDQc4",
        "colab_type": "code",
        "colab": {}
      },
      "source": [
        "# Load the style images.\n",
        "style_images = load_images_from_directory(\"neural_style_transfer/styles\")\n",
        "plot_images(style_images)"
      ],
      "execution_count": null,
      "outputs": []
    },
    {
      "cell_type": "markdown",
      "metadata": {
        "id": "A2hmrtMIDaVW",
        "colab_type": "text"
      },
      "source": [
        "## Step 3: Select a content and style image and run the NST algorithm."
      ]
    },
    {
      "cell_type": "code",
      "metadata": {
        "id": "l5z13gyUDh16",
        "colab_type": "code",
        "colab": {}
      },
      "source": [
        "#------------------------------------------------------------------------\n",
        "# Select the content and style image by providing the names here.\n",
        "#------------------------------------------------------------------------\n",
        "content_image = \"big_al\"\n",
        "style_image = \"the_scream\"\n",
        "#------------------------------------------------------------------------"
      ],
      "execution_count": 59,
      "outputs": []
    },
    {
      "cell_type": "code",
      "metadata": {
        "id": "MkdmthW8E9mk",
        "colab_type": "code",
        "colab": {}
      },
      "source": [
        "# Run style transfer and display the results.\n",
        "resulting_image = run_nst(content_image, style_image, content_images, style_images)"
      ],
      "execution_count": null,
      "outputs": []
    },
    {
      "cell_type": "markdown",
      "metadata": {
        "id": "jmBuuJ7O6_J9",
        "colab_type": "text"
      },
      "source": [
        "# **Upload Your Own Images**"
      ]
    },
    {
      "cell_type": "markdown",
      "metadata": {
        "id": "6anBMxhK7LhA",
        "colab_type": "text"
      },
      "source": [
        "## First, upload the content image (a photo)."
      ]
    },
    {
      "cell_type": "code",
      "metadata": {
        "id": "GQzp6uoYGgCZ",
        "colab_type": "code",
        "colab": {}
      },
      "source": [
        "# Upload the content image.\n",
        "content_image = upload_image()"
      ],
      "execution_count": null,
      "outputs": []
    },
    {
      "cell_type": "markdown",
      "metadata": {
        "id": "BxL-dZrZ9mNu",
        "colab_type": "text"
      },
      "source": [
        "## Then, upload the style image (a painting)."
      ]
    },
    {
      "cell_type": "code",
      "metadata": {
        "id": "C0qwTs4tGtiN",
        "colab_type": "code",
        "colab": {}
      },
      "source": [
        "# Upload the style image.\n",
        "style_image = upload_image()"
      ],
      "execution_count": null,
      "outputs": []
    },
    {
      "cell_type": "markdown",
      "metadata": {
        "id": "9ZSkbvPu-De9",
        "colab_type": "text"
      },
      "source": [
        "## Then, run Neural Style Transfer and see the results!"
      ]
    },
    {
      "cell_type": "code",
      "metadata": {
        "id": "qits2CUWG1HJ",
        "colab_type": "code",
        "colab": {}
      },
      "source": [
        "output_image = run_nst_on_my_images(content_image, style_image)"
      ],
      "execution_count": null,
      "outputs": []
    }
  ]
}